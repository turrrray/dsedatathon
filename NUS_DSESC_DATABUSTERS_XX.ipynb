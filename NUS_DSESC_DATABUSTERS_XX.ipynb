{
  "cells": [
    {
      "cell_type": "markdown",
      "metadata": {
        "id": "Ac7I8Cn1uCXl"
      },
      "source": [
        "## 1) Libraries Installation\n",
        "##### The cell below is to help you keep track the libraries used and install them quickly.\n",
        "##### Ensure the correct library names are used, and follow the syntax: **%pip install PACKAGE_NAME**."
      ]
    },
    {
      "cell_type": "code",
      "execution_count": 293,
      "metadata": {
        "id": "a4GYYh8ruCXl"
      },
      "outputs": [
        {
          "name": "stdout",
          "output_type": "stream",
          "text": [
            "Requirement already satisfied: pandas in c:\\users\\tanke\\appdata\\local\\programs\\python\\python310\\lib\\site-packages (2.0.3)\n",
            "Requirement already satisfied: numpy>=1.21.0 in c:\\users\\tanke\\appdata\\local\\programs\\python\\python310\\lib\\site-packages (from pandas) (1.25.2)\n",
            "Requirement already satisfied: python-dateutil>=2.8.2 in c:\\users\\tanke\\appdata\\local\\programs\\python\\python310\\lib\\site-packages (from pandas) (2.8.2)\n",
            "Requirement already satisfied: tzdata>=2022.1 in c:\\users\\tanke\\appdata\\local\\programs\\python\\python310\\lib\\site-packages (from pandas) (2023.3)\n",
            "Requirement already satisfied: pytz>=2020.1 in c:\\users\\tanke\\appdata\\local\\programs\\python\\python310\\lib\\site-packages (from pandas) (2023.3)\n",
            "Requirement already satisfied: six>=1.5 in c:\\users\\tanke\\appdata\\local\\programs\\python\\python310\\lib\\site-packages (from python-dateutil>=2.8.2->pandas) (1.16.0)\n",
            "Note: you may need to restart the kernel to use updated packages.\n"
          ]
        },
        {
          "name": "stderr",
          "output_type": "stream",
          "text": [
            "\n",
            "[notice] A new release of pip is available: 23.0.1 -> 25.0.1\n",
            "[notice] To update, run: python.exe -m pip install --upgrade pip\n"
          ]
        },
        {
          "name": "stdout",
          "output_type": "stream",
          "text": [
            "Requirement already satisfied: matplotlib in c:\\users\\tanke\\appdata\\local\\programs\\python\\python310\\lib\\site-packages (3.7.2)\n",
            "Requirement already satisfied: numpy>=1.20 in c:\\users\\tanke\\appdata\\local\\programs\\python\\python310\\lib\\site-packages (from matplotlib) (1.25.2)\n",
            "Requirement already satisfied: contourpy>=1.0.1 in c:\\users\\tanke\\appdata\\local\\programs\\python\\python310\\lib\\site-packages (from matplotlib) (1.1.0)\n",
            "Requirement already satisfied: pyparsing<3.1,>=2.3.1 in c:\\users\\tanke\\appdata\\local\\programs\\python\\python310\\lib\\site-packages (from matplotlib) (3.0.9)\n",
            "Requirement already satisfied: python-dateutil>=2.7 in c:\\users\\tanke\\appdata\\local\\programs\\python\\python310\\lib\\site-packages (from matplotlib) (2.8.2)\n",
            "Requirement already satisfied: fonttools>=4.22.0 in c:\\users\\tanke\\appdata\\local\\programs\\python\\python310\\lib\\site-packages (from matplotlib) (4.42.0)\n",
            "Requirement already satisfied: packaging>=20.0 in c:\\users\\tanke\\appdata\\local\\programs\\python\\python310\\lib\\site-packages (from matplotlib) (23.1)\n",
            "Requirement already satisfied: pillow>=6.2.0 in c:\\users\\tanke\\appdata\\local\\programs\\python\\python310\\lib\\site-packages (from matplotlib) (10.0.0)\n",
            "Requirement already satisfied: cycler>=0.10 in c:\\users\\tanke\\appdata\\local\\programs\\python\\python310\\lib\\site-packages (from matplotlib) (0.11.0)\n",
            "Requirement already satisfied: kiwisolver>=1.0.1 in c:\\users\\tanke\\appdata\\local\\programs\\python\\python310\\lib\\site-packages (from matplotlib) (1.4.4)\n",
            "Requirement already satisfied: six>=1.5 in c:\\users\\tanke\\appdata\\local\\programs\\python\\python310\\lib\\site-packages (from python-dateutil>=2.7->matplotlib) (1.16.0)\n",
            "Note: you may need to restart the kernel to use updated packages.\n"
          ]
        },
        {
          "name": "stderr",
          "output_type": "stream",
          "text": [
            "\n",
            "[notice] A new release of pip is available: 23.0.1 -> 25.0.1\n",
            "[notice] To update, run: python.exe -m pip install --upgrade pip\n"
          ]
        },
        {
          "name": "stdout",
          "output_type": "stream",
          "text": [
            "Requirement already satisfied: arch in c:\\users\\tanke\\appdata\\local\\programs\\python\\python310\\lib\\site-packages (7.2.0)\n",
            "Requirement already satisfied: numpy>=1.22.3 in c:\\users\\tanke\\appdata\\local\\programs\\python\\python310\\lib\\site-packages (from arch) (1.25.2)\n",
            "Requirement already satisfied: pandas>=1.4 in c:\\users\\tanke\\appdata\\local\\programs\\python\\python310\\lib\\site-packages (from arch) (2.0.3)\n",
            "Requirement already satisfied: statsmodels>=0.12 in c:\\users\\tanke\\appdata\\local\\programs\\python\\python310\\lib\\site-packages (from arch) (0.14.4)\n",
            "Requirement already satisfied: scipy>=1.8 in c:\\users\\tanke\\appdata\\local\\programs\\python\\python310\\lib\\site-packages (from arch) (1.11.1)\n",
            "Requirement already satisfied: tzdata>=2022.1 in c:\\users\\tanke\\appdata\\local\\programs\\python\\python310\\lib\\site-packages (from pandas>=1.4->arch) (2023.3)\n",
            "Requirement already satisfied: python-dateutil>=2.8.2 in c:\\users\\tanke\\appdata\\local\\programs\\python\\python310\\lib\\site-packages (from pandas>=1.4->arch) (2.8.2)\n",
            "Requirement already satisfied: pytz>=2020.1 in c:\\users\\tanke\\appdata\\local\\programs\\python\\python310\\lib\\site-packages (from pandas>=1.4->arch) (2023.3)\n",
            "Requirement already satisfied: patsy>=0.5.6 in c:\\users\\tanke\\appdata\\local\\programs\\python\\python310\\lib\\site-packages (from statsmodels>=0.12->arch) (1.0.1)\n",
            "Requirement already satisfied: packaging>=21.3 in c:\\users\\tanke\\appdata\\local\\programs\\python\\python310\\lib\\site-packages (from statsmodels>=0.12->arch) (23.1)\n",
            "Requirement already satisfied: six>=1.5 in c:\\users\\tanke\\appdata\\local\\programs\\python\\python310\\lib\\site-packages (from python-dateutil>=2.8.2->pandas>=1.4->arch) (1.16.0)\n",
            "Note: you may need to restart the kernel to use updated packages.\n"
          ]
        },
        {
          "name": "stderr",
          "output_type": "stream",
          "text": [
            "\n",
            "[notice] A new release of pip is available: 23.0.1 -> 25.0.1\n",
            "[notice] To update, run: python.exe -m pip install --upgrade pip\n"
          ]
        },
        {
          "name": "stdout",
          "output_type": "stream",
          "text": [
            "Requirement already satisfied: scikit-learn in c:\\users\\tanke\\appdata\\local\\programs\\python\\python310\\lib\\site-packages (1.3.2)\n",
            "Requirement already satisfied: threadpoolctl>=2.0.0 in c:\\users\\tanke\\appdata\\local\\programs\\python\\python310\\lib\\site-packages (from scikit-learn) (3.2.0)\n",
            "Requirement already satisfied: scipy>=1.5.0 in c:\\users\\tanke\\appdata\\local\\programs\\python\\python310\\lib\\site-packages (from scikit-learn) (1.11.1)\n",
            "Requirement already satisfied: numpy<2.0,>=1.17.3 in c:\\users\\tanke\\appdata\\local\\programs\\python\\python310\\lib\\site-packages (from scikit-learn) (1.25.2)\n",
            "Requirement already satisfied: joblib>=1.1.1 in c:\\users\\tanke\\appdata\\local\\programs\\python\\python310\\lib\\site-packages (from scikit-learn) (1.3.2)\n",
            "Note: you may need to restart the kernel to use updated packages.\n"
          ]
        },
        {
          "name": "stderr",
          "output_type": "stream",
          "text": [
            "\n",
            "[notice] A new release of pip is available: 23.0.1 -> 25.0.1\n",
            "[notice] To update, run: python.exe -m pip install --upgrade pip\n"
          ]
        }
      ],
      "source": [
        "%pip install pandas\n",
        "%pip install matplotlib\n",
        "%pip install arch \n",
        "%pip install scikit-learn\n",
        "\n",
        "# add commented pip installation lines for packages used as shown above for ease of testing\n",
        "# the line should follow the format %pip install PACKAGE_NAME"
      ]
    },
    {
      "cell_type": "code",
      "execution_count": 294,
      "metadata": {},
      "outputs": [
        {
          "name": "stdout",
          "output_type": "stream",
          "text": [
            "Requirement already satisfied: pmdarima in c:\\users\\tanke\\appdata\\local\\programs\\python\\python310\\lib\\site-packages (2.0.4)\n",
            "Requirement already satisfied: urllib3 in c:\\users\\tanke\\appdata\\local\\programs\\python\\python310\\lib\\site-packages (from pmdarima) (2.1.0)\n",
            "Requirement already satisfied: statsmodels>=0.13.2 in c:\\users\\tanke\\appdata\\local\\programs\\python\\python310\\lib\\site-packages (from pmdarima) (0.14.4)\n",
            "Requirement already satisfied: joblib>=0.11 in c:\\users\\tanke\\appdata\\local\\programs\\python\\python310\\lib\\site-packages (from pmdarima) (1.3.2)\n",
            "Requirement already satisfied: setuptools!=50.0.0,>=38.6.0 in c:\\users\\tanke\\appdata\\local\\programs\\python\\python310\\lib\\site-packages (from pmdarima) (65.5.0)\n",
            "Requirement already satisfied: numpy>=1.21.2 in c:\\users\\tanke\\appdata\\local\\programs\\python\\python310\\lib\\site-packages (from pmdarima) (1.25.2)\n",
            "Requirement already satisfied: pandas>=0.19 in c:\\users\\tanke\\appdata\\local\\programs\\python\\python310\\lib\\site-packages (from pmdarima) (2.0.3)\n",
            "Requirement already satisfied: scikit-learn>=0.22 in c:\\users\\tanke\\appdata\\local\\programs\\python\\python310\\lib\\site-packages (from pmdarima) (1.3.2)\n",
            "Requirement already satisfied: packaging>=17.1 in c:\\users\\tanke\\appdata\\local\\programs\\python\\python310\\lib\\site-packages (from pmdarima) (23.1)\n",
            "Requirement already satisfied: scipy>=1.3.2 in c:\\users\\tanke\\appdata\\local\\programs\\python\\python310\\lib\\site-packages (from pmdarima) (1.11.1)\n",
            "Requirement already satisfied: Cython!=0.29.18,!=0.29.31,>=0.29 in c:\\users\\tanke\\appdata\\local\\programs\\python\\python310\\lib\\site-packages (from pmdarima) (3.0.12)\n",
            "Requirement already satisfied: tzdata>=2022.1 in c:\\users\\tanke\\appdata\\local\\programs\\python\\python310\\lib\\site-packages (from pandas>=0.19->pmdarima) (2023.3)\n",
            "Requirement already satisfied: python-dateutil>=2.8.2 in c:\\users\\tanke\\appdata\\local\\programs\\python\\python310\\lib\\site-packages (from pandas>=0.19->pmdarima) (2.8.2)\n",
            "Requirement already satisfied: pytz>=2020.1 in c:\\users\\tanke\\appdata\\local\\programs\\python\\python310\\lib\\site-packages (from pandas>=0.19->pmdarima) (2023.3)\n",
            "Requirement already satisfied: threadpoolctl>=2.0.0 in c:\\users\\tanke\\appdata\\local\\programs\\python\\python310\\lib\\site-packages (from scikit-learn>=0.22->pmdarima) (3.2.0)\n",
            "Requirement already satisfied: patsy>=0.5.6 in c:\\users\\tanke\\appdata\\local\\programs\\python\\python310\\lib\\site-packages (from statsmodels>=0.13.2->pmdarima) (1.0.1)\n",
            "Requirement already satisfied: six>=1.5 in c:\\users\\tanke\\appdata\\local\\programs\\python\\python310\\lib\\site-packages (from python-dateutil>=2.8.2->pandas>=0.19->pmdarima) (1.16.0)\n",
            "Note: you may need to restart the kernel to use updated packages.\n"
          ]
        },
        {
          "name": "stderr",
          "output_type": "stream",
          "text": [
            "\n",
            "[notice] A new release of pip is available: 23.0.1 -> 25.0.1\n",
            "[notice] To update, run: python.exe -m pip install --upgrade pip\n"
          ]
        }
      ],
      "source": [
        "%pip install pmdarima"
      ]
    },
    {
      "cell_type": "markdown",
      "metadata": {
        "id": "0dW6s07OuCXm"
      },
      "source": [
        "## 2) Main Section for Code\n",
        "### **ALL code for machine learning and dataset analysis** should be entered below.\n",
        "##### Ensure that your code is clear and readable.\n",
        "##### Remember to include comments and markdown notes as necessary to explain and highlight important segments of your code."
      ]
    },
    {
      "cell_type": "markdown",
      "metadata": {},
      "source": [
        "### Data Manipulation"
      ]
    },
    {
      "cell_type": "code",
      "execution_count": 295,
      "metadata": {},
      "outputs": [],
      "source": [
        "## libraries \n",
        "import pandas as pd\n",
        "import numpy as np\n",
        "from statsmodels.tsa.stattools import adfuller\n",
        "from statsmodels.tsa.arima.model import ARIMA\n",
        "from sklearn.metrics import accuracy_score\n",
        "import matplotlib.pyplot as plt\n",
        "import seaborn as sns\n",
        "from sklearn.model_selection import train_test_split\n",
        "from statsmodels.tsa.api import VAR\n",
        "from pmdarima import auto_arima\n",
        "import matplotlib.dates as mdates\n"
      ]
    },
    {
      "cell_type": "markdown",
      "metadata": {},
      "source": [
        "#### Cleaning and transformation"
      ]
    },
    {
      "cell_type": "code",
      "execution_count": 296,
      "metadata": {},
      "outputs": [
        {
          "data": {
            "text/html": [
              "<div>\n",
              "<style scoped>\n",
              "    .dataframe tbody tr th:only-of-type {\n",
              "        vertical-align: middle;\n",
              "    }\n",
              "\n",
              "    .dataframe tbody tr th {\n",
              "        vertical-align: top;\n",
              "    }\n",
              "\n",
              "    .dataframe thead th {\n",
              "        text-align: right;\n",
              "    }\n",
              "</style>\n",
              "<table border=\"1\" class=\"dataframe\">\n",
              "  <thead>\n",
              "    <tr style=\"text-align: right;\">\n",
              "      <th></th>\n",
              "      <th>GDPC1</th>\n",
              "      <th>PCECC96</th>\n",
              "      <th>PCDGX</th>\n",
              "      <th>PCESVX</th>\n",
              "      <th>PCNDX</th>\n",
              "      <th>GPDIC1</th>\n",
              "      <th>FPIX</th>\n",
              "      <th>Y033RC1Q027SBEAX</th>\n",
              "      <th>PNFIX</th>\n",
              "      <th>PRFIX</th>\n",
              "      <th>...</th>\n",
              "      <th>TNWMVBSNNCBBDIX</th>\n",
              "      <th>TLBSNNBX</th>\n",
              "      <th>TLBSNNBBDIX</th>\n",
              "      <th>TABSNNBX</th>\n",
              "      <th>TNWBSNNBX</th>\n",
              "      <th>TNWBSNNBBDIX</th>\n",
              "      <th>CNCFX</th>\n",
              "      <th>S&amp;P 500</th>\n",
              "      <th>S&amp;P DIV YIELD</th>\n",
              "      <th>S&amp;P PE RATIO</th>\n",
              "    </tr>\n",
              "    <tr>\n",
              "      <th>sasdate</th>\n",
              "      <th></th>\n",
              "      <th></th>\n",
              "      <th></th>\n",
              "      <th></th>\n",
              "      <th></th>\n",
              "      <th></th>\n",
              "      <th></th>\n",
              "      <th></th>\n",
              "      <th></th>\n",
              "      <th></th>\n",
              "      <th></th>\n",
              "      <th></th>\n",
              "      <th></th>\n",
              "      <th></th>\n",
              "      <th></th>\n",
              "      <th></th>\n",
              "      <th></th>\n",
              "      <th></th>\n",
              "      <th></th>\n",
              "      <th></th>\n",
              "      <th></th>\n",
              "    </tr>\n",
              "  </thead>\n",
              "  <tbody>\n",
              "    <tr>\n",
              "      <th>3/1/1959</th>\n",
              "      <td>3352.129</td>\n",
              "      <td>2039.017</td>\n",
              "      <td>68.6651</td>\n",
              "      <td>1374.1739</td>\n",
              "      <td>689.1172</td>\n",
              "      <td>354.894</td>\n",
              "      <td>357.0174</td>\n",
              "      <td>47.8021</td>\n",
              "      <td>171.0783</td>\n",
              "      <td>282.9707</td>\n",
              "      <td>...</td>\n",
              "      <td>1341.67</td>\n",
              "      <td>333245.24</td>\n",
              "      <td>266668.11</td>\n",
              "      <td>2426352.41</td>\n",
              "      <td>2092.54</td>\n",
              "      <td>1674.48</td>\n",
              "      <td>124.9663</td>\n",
              "      <td>55.5167</td>\n",
              "      <td>3.1765</td>\n",
              "      <td>18.6211</td>\n",
              "    </tr>\n",
              "    <tr>\n",
              "      <th>6/1/1959</th>\n",
              "      <td>3427.667</td>\n",
              "      <td>2070.508</td>\n",
              "      <td>71.2495</td>\n",
              "      <td>1394.7096</td>\n",
              "      <td>694.8197</td>\n",
              "      <td>382.500</td>\n",
              "      <td>368.0640</td>\n",
              "      <td>49.2332</td>\n",
              "      <td>176.0004</td>\n",
              "      <td>292.8479</td>\n",
              "      <td>...</td>\n",
              "      <td>1294.15</td>\n",
              "      <td>345845.01</td>\n",
              "      <td>273329.36</td>\n",
              "      <td>2434975.21</td>\n",
              "      <td>2088.55</td>\n",
              "      <td>1650.63</td>\n",
              "      <td>126.5305</td>\n",
              "      <td>57.5067</td>\n",
              "      <td>3.1012</td>\n",
              "      <td>19.2899</td>\n",
              "    </tr>\n",
              "    <tr>\n",
              "      <th>9/1/1959</th>\n",
              "      <td>3430.057</td>\n",
              "      <td>2092.138</td>\n",
              "      <td>72.6270</td>\n",
              "      <td>1413.6627</td>\n",
              "      <td>697.4699</td>\n",
              "      <td>357.798</td>\n",
              "      <td>371.9585</td>\n",
              "      <td>50.8372</td>\n",
              "      <td>180.7406</td>\n",
              "      <td>287.3778</td>\n",
              "      <td>...</td>\n",
              "      <td>1320.72</td>\n",
              "      <td>354808.05</td>\n",
              "      <td>275139.48</td>\n",
              "      <td>2434604.03</td>\n",
              "      <td>2079.21</td>\n",
              "      <td>1612.34</td>\n",
              "      <td>128.9557</td>\n",
              "      <td>58.7300</td>\n",
              "      <td>3.0720</td>\n",
              "      <td>18.9544</td>\n",
              "    </tr>\n",
              "    <tr>\n",
              "      <th>12/1/1959</th>\n",
              "      <td>3439.832</td>\n",
              "      <td>2094.495</td>\n",
              "      <td>69.1573</td>\n",
              "      <td>1430.8157</td>\n",
              "      <td>701.7617</td>\n",
              "      <td>369.442</td>\n",
              "      <td>367.6452</td>\n",
              "      <td>50.7342</td>\n",
              "      <td>180.2333</td>\n",
              "      <td>279.2502</td>\n",
              "      <td>...</td>\n",
              "      <td>1165.65</td>\n",
              "      <td>349400.81</td>\n",
              "      <td>254967.79</td>\n",
              "      <td>2429055.21</td>\n",
              "      <td>2079.05</td>\n",
              "      <td>1517.14</td>\n",
              "      <td>137.0372</td>\n",
              "      <td>57.7633</td>\n",
              "      <td>3.1572</td>\n",
              "      <td>17.8221</td>\n",
              "    </tr>\n",
              "    <tr>\n",
              "      <th>3/1/1960</th>\n",
              "      <td>3517.181</td>\n",
              "      <td>2114.532</td>\n",
              "      <td>71.3815</td>\n",
              "      <td>1443.7405</td>\n",
              "      <td>703.5338</td>\n",
              "      <td>406.581</td>\n",
              "      <td>379.9162</td>\n",
              "      <td>52.4985</td>\n",
              "      <td>186.4967</td>\n",
              "      <td>287.8417</td>\n",
              "      <td>...</td>\n",
              "      <td>1327.63</td>\n",
              "      <td>362821.95</td>\n",
              "      <td>278692.55</td>\n",
              "      <td>2451394.44</td>\n",
              "      <td>2087.97</td>\n",
              "      <td>1603.82</td>\n",
              "      <td>130.1872</td>\n",
              "      <td>56.2767</td>\n",
              "      <td>3.3850</td>\n",
              "      <td>16.8284</td>\n",
              "    </tr>\n",
              "  </tbody>\n",
              "</table>\n",
              "<p>5 rows × 245 columns</p>\n",
              "</div>"
            ],
            "text/plain": [
              "              GDPC1   PCECC96    PCDGX     PCESVX     PCNDX   GPDIC1  \\\n",
              "sasdate                                                                \n",
              "3/1/1959   3352.129  2039.017  68.6651  1374.1739  689.1172  354.894   \n",
              "6/1/1959   3427.667  2070.508  71.2495  1394.7096  694.8197  382.500   \n",
              "9/1/1959   3430.057  2092.138  72.6270  1413.6627  697.4699  357.798   \n",
              "12/1/1959  3439.832  2094.495  69.1573  1430.8157  701.7617  369.442   \n",
              "3/1/1960   3517.181  2114.532  71.3815  1443.7405  703.5338  406.581   \n",
              "\n",
              "               FPIX  Y033RC1Q027SBEAX     PNFIX     PRFIX  ...  \\\n",
              "sasdate                                                    ...   \n",
              "3/1/1959   357.0174           47.8021  171.0783  282.9707  ...   \n",
              "6/1/1959   368.0640           49.2332  176.0004  292.8479  ...   \n",
              "9/1/1959   371.9585           50.8372  180.7406  287.3778  ...   \n",
              "12/1/1959  367.6452           50.7342  180.2333  279.2502  ...   \n",
              "3/1/1960   379.9162           52.4985  186.4967  287.8417  ...   \n",
              "\n",
              "           TNWMVBSNNCBBDIX   TLBSNNBX  TLBSNNBBDIX    TABSNNBX  TNWBSNNBX  \\\n",
              "sasdate                                                                     \n",
              "3/1/1959           1341.67  333245.24    266668.11  2426352.41    2092.54   \n",
              "6/1/1959           1294.15  345845.01    273329.36  2434975.21    2088.55   \n",
              "9/1/1959           1320.72  354808.05    275139.48  2434604.03    2079.21   \n",
              "12/1/1959          1165.65  349400.81    254967.79  2429055.21    2079.05   \n",
              "3/1/1960           1327.63  362821.95    278692.55  2451394.44    2087.97   \n",
              "\n",
              "           TNWBSNNBBDIX     CNCFX  S&P 500  S&P DIV YIELD  S&P PE RATIO  \n",
              "sasdate                                                                  \n",
              "3/1/1959        1674.48  124.9663  55.5167         3.1765       18.6211  \n",
              "6/1/1959        1650.63  126.5305  57.5067         3.1012       19.2899  \n",
              "9/1/1959        1612.34  128.9557  58.7300         3.0720       18.9544  \n",
              "12/1/1959       1517.14  137.0372  57.7633         3.1572       17.8221  \n",
              "3/1/1960        1603.82  130.1872  56.2767         3.3850       16.8284  \n",
              "\n",
              "[5 rows x 245 columns]"
            ]
          },
          "execution_count": 296,
          "metadata": {},
          "output_type": "execute_result"
        }
      ],
      "source": [
        "# load data\n",
        "quar_df = pd.read_csv('Quarterly Data.csv', skiprows = [1,2], index_col= [0])\n",
        "quar_df.columns = [c.upper() for c in quar_df.columns]\n",
        "quar_df.head()\n",
        "\n"
      ]
    },
    {
      "cell_type": "code",
      "execution_count": 297,
      "metadata": {},
      "outputs": [
        {
          "data": {
            "text/html": [
              "<div>\n",
              "<style scoped>\n",
              "    .dataframe tbody tr th:only-of-type {\n",
              "        vertical-align: middle;\n",
              "    }\n",
              "\n",
              "    .dataframe tbody tr th {\n",
              "        vertical-align: top;\n",
              "    }\n",
              "\n",
              "    .dataframe thead th {\n",
              "        text-align: right;\n",
              "    }\n",
              "</style>\n",
              "<table border=\"1\" class=\"dataframe\">\n",
              "  <thead>\n",
              "    <tr style=\"text-align: right;\">\n",
              "      <th></th>\n",
              "      <th>GDPC1</th>\n",
              "      <th>PCECC96</th>\n",
              "      <th>PCDGX</th>\n",
              "      <th>PCESVX</th>\n",
              "      <th>PCNDX</th>\n",
              "      <th>GPDIC1</th>\n",
              "      <th>FPIX</th>\n",
              "      <th>Y033RC1Q027SBEAX</th>\n",
              "      <th>PNFIX</th>\n",
              "      <th>PRFIX</th>\n",
              "      <th>...</th>\n",
              "      <th>TNWMVBSNNCBBDIX</th>\n",
              "      <th>TLBSNNBX</th>\n",
              "      <th>TLBSNNBBDIX</th>\n",
              "      <th>TABSNNBX</th>\n",
              "      <th>TNWBSNNBX</th>\n",
              "      <th>TNWBSNNBBDIX</th>\n",
              "      <th>CNCFX</th>\n",
              "      <th>S&amp;P 500</th>\n",
              "      <th>S&amp;P DIV YIELD</th>\n",
              "      <th>S&amp;P PE RATIO</th>\n",
              "    </tr>\n",
              "    <tr>\n",
              "      <th>sasdate</th>\n",
              "      <th></th>\n",
              "      <th></th>\n",
              "      <th></th>\n",
              "      <th></th>\n",
              "      <th></th>\n",
              "      <th></th>\n",
              "      <th></th>\n",
              "      <th></th>\n",
              "      <th></th>\n",
              "      <th></th>\n",
              "      <th></th>\n",
              "      <th></th>\n",
              "      <th></th>\n",
              "      <th></th>\n",
              "      <th></th>\n",
              "      <th></th>\n",
              "      <th></th>\n",
              "      <th></th>\n",
              "      <th></th>\n",
              "      <th></th>\n",
              "      <th></th>\n",
              "    </tr>\n",
              "  </thead>\n",
              "  <tbody>\n",
              "    <tr>\n",
              "      <th>3/1/1959</th>\n",
              "      <td>NaN</td>\n",
              "      <td>NaN</td>\n",
              "      <td>NaN</td>\n",
              "      <td>NaN</td>\n",
              "      <td>NaN</td>\n",
              "      <td>NaN</td>\n",
              "      <td>NaN</td>\n",
              "      <td>NaN</td>\n",
              "      <td>NaN</td>\n",
              "      <td>NaN</td>\n",
              "      <td>...</td>\n",
              "      <td>NaN</td>\n",
              "      <td>NaN</td>\n",
              "      <td>266668.11</td>\n",
              "      <td>NaN</td>\n",
              "      <td>NaN</td>\n",
              "      <td>NaN</td>\n",
              "      <td>NaN</td>\n",
              "      <td>NaN</td>\n",
              "      <td>NaN</td>\n",
              "      <td>NaN</td>\n",
              "    </tr>\n",
              "    <tr>\n",
              "      <th>6/1/1959</th>\n",
              "      <td>0.022284</td>\n",
              "      <td>0.015326</td>\n",
              "      <td>0.036947</td>\n",
              "      <td>0.014833</td>\n",
              "      <td>0.008241</td>\n",
              "      <td>0.074909</td>\n",
              "      <td>0.030472</td>\n",
              "      <td>0.029499</td>\n",
              "      <td>0.028365</td>\n",
              "      <td>0.034310</td>\n",
              "      <td>...</td>\n",
              "      <td>-47.52</td>\n",
              "      <td>0.037112</td>\n",
              "      <td>273329.36</td>\n",
              "      <td>0.003548</td>\n",
              "      <td>-0.001909</td>\n",
              "      <td>-23.85</td>\n",
              "      <td>0.012439</td>\n",
              "      <td>0.035218</td>\n",
              "      <td>-0.0753</td>\n",
              "      <td>0.035286</td>\n",
              "    </tr>\n",
              "    <tr>\n",
              "      <th>9/1/1959</th>\n",
              "      <td>0.000697</td>\n",
              "      <td>0.010393</td>\n",
              "      <td>0.019149</td>\n",
              "      <td>0.013498</td>\n",
              "      <td>0.003807</td>\n",
              "      <td>-0.066760</td>\n",
              "      <td>0.010525</td>\n",
              "      <td>0.032060</td>\n",
              "      <td>0.026577</td>\n",
              "      <td>-0.018856</td>\n",
              "      <td>...</td>\n",
              "      <td>26.57</td>\n",
              "      <td>0.025586</td>\n",
              "      <td>275139.48</td>\n",
              "      <td>-0.000152</td>\n",
              "      <td>-0.004482</td>\n",
              "      <td>-38.29</td>\n",
              "      <td>0.018986</td>\n",
              "      <td>0.021049</td>\n",
              "      <td>-0.0292</td>\n",
              "      <td>-0.017546</td>\n",
              "    </tr>\n",
              "    <tr>\n",
              "      <th>12/1/1959</th>\n",
              "      <td>0.002846</td>\n",
              "      <td>0.001126</td>\n",
              "      <td>-0.048953</td>\n",
              "      <td>0.012061</td>\n",
              "      <td>0.006135</td>\n",
              "      <td>0.032025</td>\n",
              "      <td>-0.011664</td>\n",
              "      <td>-0.002028</td>\n",
              "      <td>-0.002811</td>\n",
              "      <td>-0.028690</td>\n",
              "      <td>...</td>\n",
              "      <td>-155.07</td>\n",
              "      <td>-0.015357</td>\n",
              "      <td>254967.79</td>\n",
              "      <td>-0.002282</td>\n",
              "      <td>-0.000077</td>\n",
              "      <td>-95.20</td>\n",
              "      <td>0.060783</td>\n",
              "      <td>-0.016597</td>\n",
              "      <td>0.0852</td>\n",
              "      <td>-0.061597</td>\n",
              "    </tr>\n",
              "    <tr>\n",
              "      <th>3/1/1960</th>\n",
              "      <td>0.022237</td>\n",
              "      <td>0.009521</td>\n",
              "      <td>0.031655</td>\n",
              "      <td>0.008993</td>\n",
              "      <td>0.002522</td>\n",
              "      <td>0.095789</td>\n",
              "      <td>0.032832</td>\n",
              "      <td>0.034184</td>\n",
              "      <td>0.034161</td>\n",
              "      <td>0.030303</td>\n",
              "      <td>...</td>\n",
              "      <td>161.98</td>\n",
              "      <td>0.037693</td>\n",
              "      <td>278692.55</td>\n",
              "      <td>0.009155</td>\n",
              "      <td>0.004281</td>\n",
              "      <td>86.68</td>\n",
              "      <td>-0.051279</td>\n",
              "      <td>-0.026073</td>\n",
              "      <td>0.2278</td>\n",
              "      <td>-0.057371</td>\n",
              "    </tr>\n",
              "  </tbody>\n",
              "</table>\n",
              "<p>5 rows × 245 columns</p>\n",
              "</div>"
            ],
            "text/plain": [
              "              GDPC1   PCECC96     PCDGX    PCESVX     PCNDX    GPDIC1  \\\n",
              "sasdate                                                                 \n",
              "3/1/1959        NaN       NaN       NaN       NaN       NaN       NaN   \n",
              "6/1/1959   0.022284  0.015326  0.036947  0.014833  0.008241  0.074909   \n",
              "9/1/1959   0.000697  0.010393  0.019149  0.013498  0.003807 -0.066760   \n",
              "12/1/1959  0.002846  0.001126 -0.048953  0.012061  0.006135  0.032025   \n",
              "3/1/1960   0.022237  0.009521  0.031655  0.008993  0.002522  0.095789   \n",
              "\n",
              "               FPIX  Y033RC1Q027SBEAX     PNFIX     PRFIX  ...  \\\n",
              "sasdate                                                    ...   \n",
              "3/1/1959        NaN               NaN       NaN       NaN  ...   \n",
              "6/1/1959   0.030472          0.029499  0.028365  0.034310  ...   \n",
              "9/1/1959   0.010525          0.032060  0.026577 -0.018856  ...   \n",
              "12/1/1959 -0.011664         -0.002028 -0.002811 -0.028690  ...   \n",
              "3/1/1960   0.032832          0.034184  0.034161  0.030303  ...   \n",
              "\n",
              "           TNWMVBSNNCBBDIX  TLBSNNBX  TLBSNNBBDIX  TABSNNBX  TNWBSNNBX  \\\n",
              "sasdate                                                                  \n",
              "3/1/1959               NaN       NaN    266668.11       NaN        NaN   \n",
              "6/1/1959            -47.52  0.037112    273329.36  0.003548  -0.001909   \n",
              "9/1/1959             26.57  0.025586    275139.48 -0.000152  -0.004482   \n",
              "12/1/1959          -155.07 -0.015357    254967.79 -0.002282  -0.000077   \n",
              "3/1/1960            161.98  0.037693    278692.55  0.009155   0.004281   \n",
              "\n",
              "           TNWBSNNBBDIX     CNCFX   S&P 500  S&P DIV YIELD  S&P PE RATIO  \n",
              "sasdate                                                                   \n",
              "3/1/1959            NaN       NaN       NaN            NaN           NaN  \n",
              "6/1/1959         -23.85  0.012439  0.035218        -0.0753      0.035286  \n",
              "9/1/1959         -38.29  0.018986  0.021049        -0.0292     -0.017546  \n",
              "12/1/1959        -95.20  0.060783 -0.016597         0.0852     -0.061597  \n",
              "3/1/1960          86.68 -0.051279 -0.026073         0.2278     -0.057371  \n",
              "\n",
              "[5 rows x 245 columns]"
            ]
          },
          "execution_count": 297,
          "metadata": {},
          "output_type": "execute_result"
        }
      ],
      "source": [
        " # transformation function\n",
        "def apply_transformation(series, tcode):\n",
        "    \n",
        "    if tcode == 1:\n",
        "        return series\n",
        "    elif tcode == 2:\n",
        "        return series.diff()\n",
        "    elif tcode == 3:\n",
        "        return series.diff().diff()\n",
        "    elif tcode == 4:\n",
        "        return np.log(series)\n",
        "    elif tcode == 5:\n",
        "        return np.log(series).diff()\n",
        "    elif tcode == 6:\n",
        "        return np.log(series).diff().diff()\n",
        "    elif tcode == 7:\n",
        "        return series.pct_change()\n",
        "    else:\n",
        "        raise ValueError(f\"Unknown TCODE: {tcode}\")\n",
        "\n",
        "tcodes = pd.read_csv(\"Quarterly Data.csv\", skiprows= [1], nrows=1, index_col= 0)\n",
        "tcodes.columns = [c.upper() for c in tcodes.columns]\n",
        "\n",
        "# transform the time series\n",
        "quar_df_t = quar_df.apply(lambda x: apply_transformation(x, tcodes[x.name].item()))\n",
        "quar_df_t.head()\n",
        "\n",
        "\n",
        "\n",
        "\n",
        "\n"
      ]
    },
    {
      "cell_type": "markdown",
      "metadata": {},
      "source": [
        "We chose to use only consider variables included in Stock and Watson's factor consideration as these were proven to have predictive power for economies. Moreover, doing so eliminates almost half of all variables, making further computation and processing easier.\n",
        "\n",
        "Source: https://www.princeton.edu/~mwatson/papers/Stock_Watson_HOM_Vol2.pdf"
      ]
    },
    {
      "cell_type": "code",
      "execution_count": 298,
      "metadata": {},
      "outputs": [],
      "source": [
        "# highlight non-SW factors \n",
        "factors = pd.read_csv(\"Quarterly Data.csv\", nrows=1, index_col= 0)\n",
        "factors.columns = [c.upper() for c in factors.columns]\n",
        "columns_to_drop = factors.columns[factors.iloc[0] == 0]\n",
        "GDPC1 = quar_df_t[\"GDPC1\"] # factor removes this, so need to add back later"
      ]
    },
    {
      "cell_type": "code",
      "execution_count": 299,
      "metadata": {},
      "outputs": [
        {
          "data": {
            "text/plain": [
              "Index(['GDPC1', 'PCDGX', 'PCESVX', 'PCNDX', 'Y033RC1Q027SBEAX', 'PNFIX',\n",
              "       'PRFIX', 'A014RE1Q156NBEA', 'A823RL1Q225SBEA', 'FGRECPTX',\n",
              "       ...\n",
              "       'SPCS20RSA', 'TWEXAFEGSMTHX', 'EXUSEU', 'EXSZUSX', 'EXJPUSX', 'EXUSUKX',\n",
              "       'EXCAUSX', 'UMCSENTX', 'USEPUINDXM', 'S&P 500'],\n",
              "      dtype='object', length=126)"
            ]
          },
          "execution_count": 299,
          "metadata": {},
          "output_type": "execute_result"
        }
      ],
      "source": [
        "quar_df_t= quar_df_t.drop(columns=columns_to_drop)\n",
        "quar_df_t.insert(loc = 0, column = \"GDPC1\", value = GDPC1) # since target variable is removed by the factor\n",
        "\n",
        "# process dates, converting to time series as index by quarters\n",
        "quar_df_filter = quar_df_t.loc[pd.notna(quar_df_t.index), :]\n",
        "quar_df_filter.index = pd.date_range(start=\"1959-01-01\", freq=\"Q\", periods=len(quar_df_filter))\n",
        "quar_df_filter.index = quar_df_filter.index.to_period(\"Q\") # converting to period indexed by quarters\n",
        "\n",
        "quar_df_filter.columns"
      ]
    },
    {
      "cell_type": "markdown",
      "metadata": {},
      "source": [
        "To handle NA data, we keep columns with at least 75% of available data, and impute the rest of the data that is missing or that was introduced by the differencing."
      ]
    },
    {
      "cell_type": "code",
      "execution_count": 300,
      "metadata": {},
      "outputs": [
        {
          "data": {
            "image/png": "[encoded data removed]",
            "text/plain": [
              "<Figure size 1000x500 with 1 Axes>"
            ]
          },
          "metadata": {},
          "output_type": "display_data"
        }
      ],
      "source": [
        "# heatmap\n",
        "plt.figure(figsize=(10, 5))\n",
        "sns.heatmap(quar_df_filter.isna(), cmap=\"viridis\", cbar=False, yticklabels=False,xticklabels=False)\n",
        "plt.xlabel(\"Columns\")\n",
        "plt.title(\"Missing Values Heatmap\")\n",
        "plt.show()"
      ]
    },
    {
      "cell_type": "code",
      "execution_count": 301,
      "metadata": {},
      "outputs": [
        {
          "data": {
            "image/png": "[encoded data removed]",
            "text/plain": [
              "<Figure size 1000x500 with 1 Axes>"
            ]
          },
          "metadata": {},
          "output_type": "display_data"
        }
      ],
      "source": [
        "# filter out variables with less than 75% complete data\n",
        "non_missing_ratio = quar_df_filter.notnull().mean()\n",
        "threshold = 0.75  # minimum ratio of data present\n",
        "valid_columns = non_missing_ratio[non_missing_ratio >= threshold].index\n",
        "quar_df_filter_filtered_vars = quar_df_filter[valid_columns]\n",
        "\n",
        "plt.figure(figsize=(10, 5))\n",
        "sns.heatmap(quar_df_filter_filtered_vars.isna(), cmap=\"viridis\", cbar=False, yticklabels=False,xticklabels=False)\n",
        "plt.xlabel(\"Columns\")\n",
        "plt.title(\"Missing Values Heatmap (filtered)\")\n",
        "plt.show()\n",
        "\n"
      ]
    },
    {
      "cell_type": "code",
      "execution_count": 302,
      "metadata": {},
      "outputs": [
        {
          "data": {
            "image/png": "[encoded data removed]",
            "text/plain": [
              "<Figure size 1000x500 with 1 Axes>"
            ]
          },
          "metadata": {},
          "output_type": "display_data"
        }
      ],
      "source": [
        "# impute missing values using forward then backward fill\n",
        "quar_final = quar_df_filter_filtered_vars.fillna(method='ffill').fillna(method='bfill')\n",
        "\n",
        "plt.figure(figsize=(10, 5))\n",
        "sns.heatmap(quar_final.isna(), cmap=\"viridis\", cbar=False, yticklabels=False,xticklabels=False)\n",
        "plt.xlabel(\"Columns\")\n",
        "plt.title(\"Missing Values Heatmap (imputed)\")\n",
        "plt.show()\n"
      ]
    },
    {
      "cell_type": "code",
      "execution_count": 303,
      "metadata": {},
      "outputs": [
        {
          "data": {
            "text/html": [
              "<div>\n",
              "<style scoped>\n",
              "    .dataframe tbody tr th:only-of-type {\n",
              "        vertical-align: middle;\n",
              "    }\n",
              "\n",
              "    .dataframe tbody tr th {\n",
              "        vertical-align: top;\n",
              "    }\n",
              "\n",
              "    .dataframe thead th {\n",
              "        text-align: right;\n",
              "    }\n",
              "</style>\n",
              "<table border=\"1\" class=\"dataframe\">\n",
              "  <thead>\n",
              "    <tr style=\"text-align: right;\">\n",
              "      <th></th>\n",
              "      <th>GDPC1</th>\n",
              "      <th>PCDGX</th>\n",
              "      <th>PCESVX</th>\n",
              "      <th>PCNDX</th>\n",
              "      <th>Y033RC1Q027SBEAX</th>\n",
              "      <th>PNFIX</th>\n",
              "      <th>PRFIX</th>\n",
              "      <th>A014RE1Q156NBEA</th>\n",
              "      <th>A823RL1Q225SBEA</th>\n",
              "      <th>FGRECPTX</th>\n",
              "      <th>...</th>\n",
              "      <th>HNOREMQ027SX</th>\n",
              "      <th>TFAABSHNOX</th>\n",
              "      <th>VIXCLSX</th>\n",
              "      <th>USSTHPI</th>\n",
              "      <th>EXSZUSX</th>\n",
              "      <th>EXJPUSX</th>\n",
              "      <th>EXUSUKX</th>\n",
              "      <th>EXCAUSX</th>\n",
              "      <th>UMCSENTX</th>\n",
              "      <th>S&amp;P 500</th>\n",
              "    </tr>\n",
              "  </thead>\n",
              "  <tbody>\n",
              "    <tr>\n",
              "      <th>1959Q1</th>\n",
              "      <td>0.022284</td>\n",
              "      <td>0.036947</td>\n",
              "      <td>0.014833</td>\n",
              "      <td>0.008241</td>\n",
              "      <td>0.029499</td>\n",
              "      <td>0.028365</td>\n",
              "      <td>0.034310</td>\n",
              "      <td>0.8</td>\n",
              "      <td>-7.7</td>\n",
              "      <td>0.040303</td>\n",
              "      <td>...</td>\n",
              "      <td>0.015609</td>\n",
              "      <td>0.009974</td>\n",
              "      <td>17.8889</td>\n",
              "      <td>0.000132</td>\n",
              "      <td>0.000672</td>\n",
              "      <td>0.000000</td>\n",
              "      <td>0.001778</td>\n",
              "      <td>-0.009004</td>\n",
              "      <td>95.3</td>\n",
              "      <td>0.035218</td>\n",
              "    </tr>\n",
              "    <tr>\n",
              "      <th>1959Q2</th>\n",
              "      <td>0.022284</td>\n",
              "      <td>0.036947</td>\n",
              "      <td>0.014833</td>\n",
              "      <td>0.008241</td>\n",
              "      <td>0.029499</td>\n",
              "      <td>0.028365</td>\n",
              "      <td>0.034310</td>\n",
              "      <td>1.4</td>\n",
              "      <td>7.6</td>\n",
              "      <td>0.040303</td>\n",
              "      <td>...</td>\n",
              "      <td>0.015609</td>\n",
              "      <td>0.009974</td>\n",
              "      <td>17.8889</td>\n",
              "      <td>0.000132</td>\n",
              "      <td>0.000672</td>\n",
              "      <td>0.000000</td>\n",
              "      <td>0.001778</td>\n",
              "      <td>-0.009004</td>\n",
              "      <td>95.3</td>\n",
              "      <td>0.035218</td>\n",
              "    </tr>\n",
              "    <tr>\n",
              "      <th>1959Q3</th>\n",
              "      <td>0.000697</td>\n",
              "      <td>0.019149</td>\n",
              "      <td>0.013498</td>\n",
              "      <td>0.003807</td>\n",
              "      <td>0.032060</td>\n",
              "      <td>0.026577</td>\n",
              "      <td>-0.018856</td>\n",
              "      <td>0.1</td>\n",
              "      <td>5.5</td>\n",
              "      <td>-0.024853</td>\n",
              "      <td>...</td>\n",
              "      <td>0.011967</td>\n",
              "      <td>-0.000909</td>\n",
              "      <td>17.8889</td>\n",
              "      <td>0.000132</td>\n",
              "      <td>-0.000602</td>\n",
              "      <td>0.000240</td>\n",
              "      <td>-0.002205</td>\n",
              "      <td>-0.007723</td>\n",
              "      <td>95.3</td>\n",
              "      <td>0.021049</td>\n",
              "    </tr>\n",
              "    <tr>\n",
              "      <th>1959Q4</th>\n",
              "      <td>0.002846</td>\n",
              "      <td>-0.048953</td>\n",
              "      <td>0.012061</td>\n",
              "      <td>0.006135</td>\n",
              "      <td>-0.002028</td>\n",
              "      <td>-0.002811</td>\n",
              "      <td>-0.028690</td>\n",
              "      <td>0.8</td>\n",
              "      <td>-3.9</td>\n",
              "      <td>0.003149</td>\n",
              "      <td>...</td>\n",
              "      <td>0.009574</td>\n",
              "      <td>0.015394</td>\n",
              "      <td>17.8889</td>\n",
              "      <td>0.000132</td>\n",
              "      <td>0.004161</td>\n",
              "      <td>0.000840</td>\n",
              "      <td>-0.002067</td>\n",
              "      <td>-0.004936</td>\n",
              "      <td>93.8</td>\n",
              "      <td>-0.016597</td>\n",
              "    </tr>\n",
              "    <tr>\n",
              "      <th>1960Q1</th>\n",
              "      <td>0.022237</td>\n",
              "      <td>0.031655</td>\n",
              "      <td>0.008993</td>\n",
              "      <td>0.002522</td>\n",
              "      <td>0.034184</td>\n",
              "      <td>0.034161</td>\n",
              "      <td>0.030303</td>\n",
              "      <td>2.1</td>\n",
              "      <td>-14.2</td>\n",
              "      <td>0.087530</td>\n",
              "      <td>...</td>\n",
              "      <td>0.021491</td>\n",
              "      <td>-0.006638</td>\n",
              "      <td>17.8889</td>\n",
              "      <td>0.000132</td>\n",
              "      <td>-0.000138</td>\n",
              "      <td>0.000841</td>\n",
              "      <td>0.000178</td>\n",
              "      <td>0.002314</td>\n",
              "      <td>100.0</td>\n",
              "      <td>-0.026073</td>\n",
              "    </tr>\n",
              "  </tbody>\n",
              "</table>\n",
              "<p>5 rows × 114 columns</p>\n",
              "</div>"
            ],
            "text/plain": [
              "           GDPC1     PCDGX    PCESVX     PCNDX  Y033RC1Q027SBEAX     PNFIX  \\\n",
              "1959Q1  0.022284  0.036947  0.014833  0.008241          0.029499  0.028365   \n",
              "1959Q2  0.022284  0.036947  0.014833  0.008241          0.029499  0.028365   \n",
              "1959Q3  0.000697  0.019149  0.013498  0.003807          0.032060  0.026577   \n",
              "1959Q4  0.002846 -0.048953  0.012061  0.006135         -0.002028 -0.002811   \n",
              "1960Q1  0.022237  0.031655  0.008993  0.002522          0.034184  0.034161   \n",
              "\n",
              "           PRFIX  A014RE1Q156NBEA  A823RL1Q225SBEA  FGRECPTX  ...  \\\n",
              "1959Q1  0.034310              0.8             -7.7  0.040303  ...   \n",
              "1959Q2  0.034310              1.4              7.6  0.040303  ...   \n",
              "1959Q3 -0.018856              0.1              5.5 -0.024853  ...   \n",
              "1959Q4 -0.028690              0.8             -3.9  0.003149  ...   \n",
              "1960Q1  0.030303              2.1            -14.2  0.087530  ...   \n",
              "\n",
              "        HNOREMQ027SX  TFAABSHNOX  VIXCLSX   USSTHPI   EXSZUSX   EXJPUSX  \\\n",
              "1959Q1      0.015609    0.009974  17.8889  0.000132  0.000672  0.000000   \n",
              "1959Q2      0.015609    0.009974  17.8889  0.000132  0.000672  0.000000   \n",
              "1959Q3      0.011967   -0.000909  17.8889  0.000132 -0.000602  0.000240   \n",
              "1959Q4      0.009574    0.015394  17.8889  0.000132  0.004161  0.000840   \n",
              "1960Q1      0.021491   -0.006638  17.8889  0.000132 -0.000138  0.000841   \n",
              "\n",
              "         EXUSUKX   EXCAUSX  UMCSENTX   S&P 500  \n",
              "1959Q1  0.001778 -0.009004      95.3  0.035218  \n",
              "1959Q2  0.001778 -0.009004      95.3  0.035218  \n",
              "1959Q3 -0.002205 -0.007723      95.3  0.021049  \n",
              "1959Q4 -0.002067 -0.004936      93.8 -0.016597  \n",
              "1960Q1  0.000178  0.002314     100.0 -0.026073  \n",
              "\n",
              "[5 rows x 114 columns]"
            ]
          },
          "execution_count": 303,
          "metadata": {},
          "output_type": "execute_result"
        }
      ],
      "source": [
        "quar_final.head()"
      ]
    },
    {
      "cell_type": "markdown",
      "metadata": {},
      "source": [
        "#### Feature Selection"
      ]
    },
    {
      "cell_type": "code",
      "execution_count": 310,
      "metadata": {},
      "outputs": [
        {
          "name": "stdout",
          "output_type": "stream",
          "text": [
            "True\n",
            "True\n",
            "True\n",
            "True\n",
            "True\n"
          ]
        }
      ],
      "source": [
        "# check that impt variables are still in the dataset \n",
        "best = [\"LNS14000025\", \"DMANEMP\", \"LNS13023621\", \"USTPU\", \"IPBUSEQ\"]\n",
        "\n",
        "for i in best:\n",
        "    print(i in quar_final)"
      ]
    },
    {
      "cell_type": "markdown",
      "metadata": {},
      "source": [
        "As mentioned in the report, we identified 5 features that we found were the most significant, and isolate them before building a correlation matrix to choose the rest of the variables "
      ]
    },
    {
      "cell_type": "code",
      "execution_count": 311,
      "metadata": {},
      "outputs": [
        {
          "data": {
            "text/html": [
              "<div>\n",
              "<style scoped>\n",
              "    .dataframe tbody tr th:only-of-type {\n",
              "        vertical-align: middle;\n",
              "    }\n",
              "\n",
              "    .dataframe tbody tr th {\n",
              "        vertical-align: top;\n",
              "    }\n",
              "\n",
              "    .dataframe thead th {\n",
              "        text-align: right;\n",
              "    }\n",
              "</style>\n",
              "<table border=\"1\" class=\"dataframe\">\n",
              "  <thead>\n",
              "    <tr style=\"text-align: right;\">\n",
              "      <th></th>\n",
              "      <th>LNS14000025</th>\n",
              "      <th>DMANEMP</th>\n",
              "      <th>LNS13023621</th>\n",
              "      <th>USTPU</th>\n",
              "      <th>IPBUSEQ</th>\n",
              "    </tr>\n",
              "  </thead>\n",
              "  <tbody>\n",
              "    <tr>\n",
              "      <th>1959Q1</th>\n",
              "      <td>-0.9333</td>\n",
              "      <td>0.033417</td>\n",
              "      <td>0.062044</td>\n",
              "      <td>0.010998</td>\n",
              "      <td>0.066620</td>\n",
              "    </tr>\n",
              "    <tr>\n",
              "      <th>1959Q2</th>\n",
              "      <td>-0.9333</td>\n",
              "      <td>0.033417</td>\n",
              "      <td>0.062044</td>\n",
              "      <td>0.010998</td>\n",
              "      <td>0.066620</td>\n",
              "    </tr>\n",
              "    <tr>\n",
              "      <th>1959Q3</th>\n",
              "      <td>0.2667</td>\n",
              "      <td>-0.017681</td>\n",
              "      <td>0.062044</td>\n",
              "      <td>0.004560</td>\n",
              "      <td>0.019652</td>\n",
              "    </tr>\n",
              "    <tr>\n",
              "      <th>1959Q4</th>\n",
              "      <td>0.3333</td>\n",
              "      <td>-0.001893</td>\n",
              "      <td>0.062044</td>\n",
              "      <td>0.003149</td>\n",
              "      <td>-0.021535</td>\n",
              "    </tr>\n",
              "    <tr>\n",
              "      <th>1960Q1</th>\n",
              "      <td>-0.4333</td>\n",
              "      <td>0.037699</td>\n",
              "      <td>0.062044</td>\n",
              "      <td>0.008010</td>\n",
              "      <td>0.045850</td>\n",
              "    </tr>\n",
              "  </tbody>\n",
              "</table>\n",
              "</div>"
            ],
            "text/plain": [
              "        LNS14000025   DMANEMP  LNS13023621     USTPU   IPBUSEQ\n",
              "1959Q1      -0.9333  0.033417     0.062044  0.010998  0.066620\n",
              "1959Q2      -0.9333  0.033417     0.062044  0.010998  0.066620\n",
              "1959Q3       0.2667 -0.017681     0.062044  0.004560  0.019652\n",
              "1959Q4       0.3333 -0.001893     0.062044  0.003149 -0.021535\n",
              "1960Q1      -0.4333  0.037699     0.062044  0.008010  0.045850"
            ]
          },
          "execution_count": 311,
          "metadata": {},
          "output_type": "execute_result"
        }
      ],
      "source": [
        "# remove impt from df before building correlation mat\n",
        "impt_df =  pd.concat([quar_final.pop(x) for x in best], axis = 1)\n",
        "impt_df.head()"
      ]
    },
    {
      "cell_type": "code",
      "execution_count": 312,
      "metadata": {},
      "outputs": [
        {
          "data": {
            "text/html": [
              "<div>\n",
              "<style scoped>\n",
              "    .dataframe tbody tr th:only-of-type {\n",
              "        vertical-align: middle;\n",
              "    }\n",
              "\n",
              "    .dataframe tbody tr th {\n",
              "        vertical-align: top;\n",
              "    }\n",
              "\n",
              "    .dataframe thead th {\n",
              "        text-align: right;\n",
              "    }\n",
              "</style>\n",
              "<table border=\"1\" class=\"dataframe\">\n",
              "  <thead>\n",
              "    <tr style=\"text-align: right;\">\n",
              "      <th></th>\n",
              "      <th>GDPC1</th>\n",
              "      <th>PCESVX</th>\n",
              "      <th>PCNDX</th>\n",
              "      <th>Y033RC1Q027SBEAX</th>\n",
              "      <th>PNFIX</th>\n",
              "      <th>PRFIX</th>\n",
              "      <th>A014RE1Q156NBEA</th>\n",
              "      <th>A823RL1Q225SBEA</th>\n",
              "      <th>FGRECPTX</th>\n",
              "      <th>SLCEX</th>\n",
              "      <th>...</th>\n",
              "      <th>HNOREMQ027SX</th>\n",
              "      <th>TFAABSHNOX</th>\n",
              "      <th>VIXCLSX</th>\n",
              "      <th>USSTHPI</th>\n",
              "      <th>EXSZUSX</th>\n",
              "      <th>EXJPUSX</th>\n",
              "      <th>EXUSUKX</th>\n",
              "      <th>EXCAUSX</th>\n",
              "      <th>UMCSENTX</th>\n",
              "      <th>S&amp;P 500</th>\n",
              "    </tr>\n",
              "  </thead>\n",
              "  <tbody>\n",
              "    <tr>\n",
              "      <th>1959Q1</th>\n",
              "      <td>0.022284</td>\n",
              "      <td>0.014833</td>\n",
              "      <td>0.008241</td>\n",
              "      <td>0.029499</td>\n",
              "      <td>0.028365</td>\n",
              "      <td>0.034310</td>\n",
              "      <td>0.8</td>\n",
              "      <td>-7.7</td>\n",
              "      <td>0.040303</td>\n",
              "      <td>0.002214</td>\n",
              "      <td>...</td>\n",
              "      <td>0.015609</td>\n",
              "      <td>0.009974</td>\n",
              "      <td>17.8889</td>\n",
              "      <td>0.000132</td>\n",
              "      <td>0.000672</td>\n",
              "      <td>0.000000</td>\n",
              "      <td>0.001778</td>\n",
              "      <td>-0.009004</td>\n",
              "      <td>95.3</td>\n",
              "      <td>0.035218</td>\n",
              "    </tr>\n",
              "    <tr>\n",
              "      <th>1959Q2</th>\n",
              "      <td>0.022284</td>\n",
              "      <td>0.014833</td>\n",
              "      <td>0.008241</td>\n",
              "      <td>0.029499</td>\n",
              "      <td>0.028365</td>\n",
              "      <td>0.034310</td>\n",
              "      <td>1.4</td>\n",
              "      <td>7.6</td>\n",
              "      <td>0.040303</td>\n",
              "      <td>0.002214</td>\n",
              "      <td>...</td>\n",
              "      <td>0.015609</td>\n",
              "      <td>0.009974</td>\n",
              "      <td>17.8889</td>\n",
              "      <td>0.000132</td>\n",
              "      <td>0.000672</td>\n",
              "      <td>0.000000</td>\n",
              "      <td>0.001778</td>\n",
              "      <td>-0.009004</td>\n",
              "      <td>95.3</td>\n",
              "      <td>0.035218</td>\n",
              "    </tr>\n",
              "    <tr>\n",
              "      <th>1959Q3</th>\n",
              "      <td>0.000697</td>\n",
              "      <td>0.013498</td>\n",
              "      <td>0.003807</td>\n",
              "      <td>0.032060</td>\n",
              "      <td>0.026577</td>\n",
              "      <td>-0.018856</td>\n",
              "      <td>0.1</td>\n",
              "      <td>5.5</td>\n",
              "      <td>-0.024853</td>\n",
              "      <td>0.000585</td>\n",
              "      <td>...</td>\n",
              "      <td>0.011967</td>\n",
              "      <td>-0.000909</td>\n",
              "      <td>17.8889</td>\n",
              "      <td>0.000132</td>\n",
              "      <td>-0.000602</td>\n",
              "      <td>0.000240</td>\n",
              "      <td>-0.002205</td>\n",
              "      <td>-0.007723</td>\n",
              "      <td>95.3</td>\n",
              "      <td>0.021049</td>\n",
              "    </tr>\n",
              "    <tr>\n",
              "      <th>1959Q4</th>\n",
              "      <td>0.002846</td>\n",
              "      <td>0.012061</td>\n",
              "      <td>0.006135</td>\n",
              "      <td>-0.002028</td>\n",
              "      <td>-0.002811</td>\n",
              "      <td>-0.028690</td>\n",
              "      <td>0.8</td>\n",
              "      <td>-3.9</td>\n",
              "      <td>0.003149</td>\n",
              "      <td>-0.005256</td>\n",
              "      <td>...</td>\n",
              "      <td>0.009574</td>\n",
              "      <td>0.015394</td>\n",
              "      <td>17.8889</td>\n",
              "      <td>0.000132</td>\n",
              "      <td>0.004161</td>\n",
              "      <td>0.000840</td>\n",
              "      <td>-0.002067</td>\n",
              "      <td>-0.004936</td>\n",
              "      <td>93.8</td>\n",
              "      <td>-0.016597</td>\n",
              "    </tr>\n",
              "    <tr>\n",
              "      <th>1960Q1</th>\n",
              "      <td>0.022237</td>\n",
              "      <td>0.008993</td>\n",
              "      <td>0.002522</td>\n",
              "      <td>0.034184</td>\n",
              "      <td>0.034161</td>\n",
              "      <td>0.030303</td>\n",
              "      <td>2.1</td>\n",
              "      <td>-14.2</td>\n",
              "      <td>0.087530</td>\n",
              "      <td>0.016744</td>\n",
              "      <td>...</td>\n",
              "      <td>0.021491</td>\n",
              "      <td>-0.006638</td>\n",
              "      <td>17.8889</td>\n",
              "      <td>0.000132</td>\n",
              "      <td>-0.000138</td>\n",
              "      <td>0.000841</td>\n",
              "      <td>0.000178</td>\n",
              "      <td>0.002314</td>\n",
              "      <td>100.0</td>\n",
              "      <td>-0.026073</td>\n",
              "    </tr>\n",
              "  </tbody>\n",
              "</table>\n",
              "<p>5 rows × 107 columns</p>\n",
              "</div>"
            ],
            "text/plain": [
              "           GDPC1    PCESVX     PCNDX  Y033RC1Q027SBEAX     PNFIX     PRFIX  \\\n",
              "1959Q1  0.022284  0.014833  0.008241          0.029499  0.028365  0.034310   \n",
              "1959Q2  0.022284  0.014833  0.008241          0.029499  0.028365  0.034310   \n",
              "1959Q3  0.000697  0.013498  0.003807          0.032060  0.026577 -0.018856   \n",
              "1959Q4  0.002846  0.012061  0.006135         -0.002028 -0.002811 -0.028690   \n",
              "1960Q1  0.022237  0.008993  0.002522          0.034184  0.034161  0.030303   \n",
              "\n",
              "        A014RE1Q156NBEA  A823RL1Q225SBEA  FGRECPTX     SLCEX  ...  \\\n",
              "1959Q1              0.8             -7.7  0.040303  0.002214  ...   \n",
              "1959Q2              1.4              7.6  0.040303  0.002214  ...   \n",
              "1959Q3              0.1              5.5 -0.024853  0.000585  ...   \n",
              "1959Q4              0.8             -3.9  0.003149 -0.005256  ...   \n",
              "1960Q1              2.1            -14.2  0.087530  0.016744  ...   \n",
              "\n",
              "        HNOREMQ027SX  TFAABSHNOX  VIXCLSX   USSTHPI   EXSZUSX   EXJPUSX  \\\n",
              "1959Q1      0.015609    0.009974  17.8889  0.000132  0.000672  0.000000   \n",
              "1959Q2      0.015609    0.009974  17.8889  0.000132  0.000672  0.000000   \n",
              "1959Q3      0.011967   -0.000909  17.8889  0.000132 -0.000602  0.000240   \n",
              "1959Q4      0.009574    0.015394  17.8889  0.000132  0.004161  0.000840   \n",
              "1960Q1      0.021491   -0.006638  17.8889  0.000132 -0.000138  0.000841   \n",
              "\n",
              "         EXUSUKX   EXCAUSX  UMCSENTX   S&P 500  \n",
              "1959Q1  0.001778 -0.009004      95.3  0.035218  \n",
              "1959Q2  0.001778 -0.009004      95.3  0.035218  \n",
              "1959Q3 -0.002205 -0.007723      95.3  0.021049  \n",
              "1959Q4 -0.002067 -0.004936      93.8 -0.016597  \n",
              "1960Q1  0.000178  0.002314     100.0 -0.026073  \n",
              "\n",
              "[5 rows x 107 columns]"
            ]
          },
          "execution_count": 312,
          "metadata": {},
          "output_type": "execute_result"
        }
      ],
      "source": [
        "quar_final.head()"
      ]
    },
    {
      "cell_type": "code",
      "execution_count": 313,
      "metadata": {},
      "outputs": [
        {
          "data": {
            "text/plain": [
              "['PNFIX',\n",
              " 'IPB51110SQ',\n",
              " 'CUMFNS',\n",
              " 'USLAH',\n",
              " 'USSERV',\n",
              " 'USTRADE',\n",
              " 'LNS14000026',\n",
              " 'UEMP5TO14',\n",
              " 'WPSID61',\n",
              " 'RCPHBS',\n",
              " 'TB3MS',\n",
              " 'BAA10YM',\n",
              " 'TARESAX',\n",
              " 'TFAABSHNOX']"
            ]
          },
          "execution_count": 313,
          "metadata": {},
          "output_type": "execute_result"
        }
      ],
      "source": [
        "corr_matrix = quar_final.corr().abs()\n",
        "upper = corr_matrix.where(np.triu(np.ones(corr_matrix.shape), k=1).astype(bool))\n",
        "to_drop = [column for column in upper.columns if any(upper[column] > 0.85)]\n",
        "\n",
        "to_drop\n"
      ]
    },
    {
      "cell_type": "code",
      "execution_count": 314,
      "metadata": {},
      "outputs": [
        {
          "data": {
            "text/html": [
              "<div>\n",
              "<style scoped>\n",
              "    .dataframe tbody tr th:only-of-type {\n",
              "        vertical-align: middle;\n",
              "    }\n",
              "\n",
              "    .dataframe tbody tr th {\n",
              "        vertical-align: top;\n",
              "    }\n",
              "\n",
              "    .dataframe thead th {\n",
              "        text-align: right;\n",
              "    }\n",
              "</style>\n",
              "<table border=\"1\" class=\"dataframe\">\n",
              "  <thead>\n",
              "    <tr style=\"text-align: right;\">\n",
              "      <th></th>\n",
              "      <th>GDPC1</th>\n",
              "      <th>PCESVX</th>\n",
              "      <th>PCNDX</th>\n",
              "      <th>Y033RC1Q027SBEAX</th>\n",
              "      <th>PRFIX</th>\n",
              "      <th>A014RE1Q156NBEA</th>\n",
              "      <th>A823RL1Q225SBEA</th>\n",
              "      <th>FGRECPTX</th>\n",
              "      <th>SLCEX</th>\n",
              "      <th>IMPGSC1</th>\n",
              "      <th>...</th>\n",
              "      <th>EXJPUSX</th>\n",
              "      <th>EXUSUKX</th>\n",
              "      <th>EXCAUSX</th>\n",
              "      <th>UMCSENTX</th>\n",
              "      <th>S&amp;P 500</th>\n",
              "      <th>LNS14000025</th>\n",
              "      <th>DMANEMP</th>\n",
              "      <th>LNS13023621</th>\n",
              "      <th>USTPU</th>\n",
              "      <th>IPBUSEQ</th>\n",
              "    </tr>\n",
              "  </thead>\n",
              "  <tbody>\n",
              "    <tr>\n",
              "      <th>1959Q1</th>\n",
              "      <td>0.022284</td>\n",
              "      <td>0.014833</td>\n",
              "      <td>0.008241</td>\n",
              "      <td>0.029499</td>\n",
              "      <td>0.034310</td>\n",
              "      <td>0.8</td>\n",
              "      <td>-7.7</td>\n",
              "      <td>0.040303</td>\n",
              "      <td>0.002214</td>\n",
              "      <td>0.047511</td>\n",
              "      <td>...</td>\n",
              "      <td>0.000000</td>\n",
              "      <td>0.001778</td>\n",
              "      <td>-0.009004</td>\n",
              "      <td>95.3</td>\n",
              "      <td>0.035218</td>\n",
              "      <td>-0.9333</td>\n",
              "      <td>0.033417</td>\n",
              "      <td>0.062044</td>\n",
              "      <td>0.010998</td>\n",
              "      <td>0.066620</td>\n",
              "    </tr>\n",
              "    <tr>\n",
              "      <th>1959Q2</th>\n",
              "      <td>0.022284</td>\n",
              "      <td>0.014833</td>\n",
              "      <td>0.008241</td>\n",
              "      <td>0.029499</td>\n",
              "      <td>0.034310</td>\n",
              "      <td>1.4</td>\n",
              "      <td>7.6</td>\n",
              "      <td>0.040303</td>\n",
              "      <td>0.002214</td>\n",
              "      <td>0.047511</td>\n",
              "      <td>...</td>\n",
              "      <td>0.000000</td>\n",
              "      <td>0.001778</td>\n",
              "      <td>-0.009004</td>\n",
              "      <td>95.3</td>\n",
              "      <td>0.035218</td>\n",
              "      <td>-0.9333</td>\n",
              "      <td>0.033417</td>\n",
              "      <td>0.062044</td>\n",
              "      <td>0.010998</td>\n",
              "      <td>0.066620</td>\n",
              "    </tr>\n",
              "    <tr>\n",
              "      <th>1959Q3</th>\n",
              "      <td>0.000697</td>\n",
              "      <td>0.013498</td>\n",
              "      <td>0.003807</td>\n",
              "      <td>0.032060</td>\n",
              "      <td>-0.018856</td>\n",
              "      <td>0.1</td>\n",
              "      <td>5.5</td>\n",
              "      <td>-0.024853</td>\n",
              "      <td>0.000585</td>\n",
              "      <td>0.009496</td>\n",
              "      <td>...</td>\n",
              "      <td>0.000240</td>\n",
              "      <td>-0.002205</td>\n",
              "      <td>-0.007723</td>\n",
              "      <td>95.3</td>\n",
              "      <td>0.021049</td>\n",
              "      <td>0.2667</td>\n",
              "      <td>-0.017681</td>\n",
              "      <td>0.062044</td>\n",
              "      <td>0.004560</td>\n",
              "      <td>0.019652</td>\n",
              "    </tr>\n",
              "    <tr>\n",
              "      <th>1959Q4</th>\n",
              "      <td>0.002846</td>\n",
              "      <td>0.012061</td>\n",
              "      <td>0.006135</td>\n",
              "      <td>-0.002028</td>\n",
              "      <td>-0.028690</td>\n",
              "      <td>0.8</td>\n",
              "      <td>-3.9</td>\n",
              "      <td>0.003149</td>\n",
              "      <td>-0.005256</td>\n",
              "      <td>-0.025718</td>\n",
              "      <td>...</td>\n",
              "      <td>0.000840</td>\n",
              "      <td>-0.002067</td>\n",
              "      <td>-0.004936</td>\n",
              "      <td>93.8</td>\n",
              "      <td>-0.016597</td>\n",
              "      <td>0.3333</td>\n",
              "      <td>-0.001893</td>\n",
              "      <td>0.062044</td>\n",
              "      <td>0.003149</td>\n",
              "      <td>-0.021535</td>\n",
              "    </tr>\n",
              "    <tr>\n",
              "      <th>1960Q1</th>\n",
              "      <td>0.022237</td>\n",
              "      <td>0.008993</td>\n",
              "      <td>0.002522</td>\n",
              "      <td>0.034184</td>\n",
              "      <td>0.030303</td>\n",
              "      <td>2.1</td>\n",
              "      <td>-14.2</td>\n",
              "      <td>0.087530</td>\n",
              "      <td>0.016744</td>\n",
              "      <td>0.037076</td>\n",
              "      <td>...</td>\n",
              "      <td>0.000841</td>\n",
              "      <td>0.000178</td>\n",
              "      <td>0.002314</td>\n",
              "      <td>100.0</td>\n",
              "      <td>-0.026073</td>\n",
              "      <td>-0.4333</td>\n",
              "      <td>0.037699</td>\n",
              "      <td>0.062044</td>\n",
              "      <td>0.008010</td>\n",
              "      <td>0.045850</td>\n",
              "    </tr>\n",
              "  </tbody>\n",
              "</table>\n",
              "<p>5 rows × 98 columns</p>\n",
              "</div>"
            ],
            "text/plain": [
              "           GDPC1    PCESVX     PCNDX  Y033RC1Q027SBEAX     PRFIX  \\\n",
              "1959Q1  0.022284  0.014833  0.008241          0.029499  0.034310   \n",
              "1959Q2  0.022284  0.014833  0.008241          0.029499  0.034310   \n",
              "1959Q3  0.000697  0.013498  0.003807          0.032060 -0.018856   \n",
              "1959Q4  0.002846  0.012061  0.006135         -0.002028 -0.028690   \n",
              "1960Q1  0.022237  0.008993  0.002522          0.034184  0.030303   \n",
              "\n",
              "        A014RE1Q156NBEA  A823RL1Q225SBEA  FGRECPTX     SLCEX   IMPGSC1  ...  \\\n",
              "1959Q1              0.8             -7.7  0.040303  0.002214  0.047511  ...   \n",
              "1959Q2              1.4              7.6  0.040303  0.002214  0.047511  ...   \n",
              "1959Q3              0.1              5.5 -0.024853  0.000585  0.009496  ...   \n",
              "1959Q4              0.8             -3.9  0.003149 -0.005256 -0.025718  ...   \n",
              "1960Q1              2.1            -14.2  0.087530  0.016744  0.037076  ...   \n",
              "\n",
              "         EXJPUSX   EXUSUKX   EXCAUSX  UMCSENTX   S&P 500  LNS14000025  \\\n",
              "1959Q1  0.000000  0.001778 -0.009004      95.3  0.035218      -0.9333   \n",
              "1959Q2  0.000000  0.001778 -0.009004      95.3  0.035218      -0.9333   \n",
              "1959Q3  0.000240 -0.002205 -0.007723      95.3  0.021049       0.2667   \n",
              "1959Q4  0.000840 -0.002067 -0.004936      93.8 -0.016597       0.3333   \n",
              "1960Q1  0.000841  0.000178  0.002314     100.0 -0.026073      -0.4333   \n",
              "\n",
              "         DMANEMP  LNS13023621     USTPU   IPBUSEQ  \n",
              "1959Q1  0.033417     0.062044  0.010998  0.066620  \n",
              "1959Q2  0.033417     0.062044  0.010998  0.066620  \n",
              "1959Q3 -0.017681     0.062044  0.004560  0.019652  \n",
              "1959Q4 -0.001893     0.062044  0.003149 -0.021535  \n",
              "1960Q1  0.037699     0.062044  0.008010  0.045850  \n",
              "\n",
              "[5 rows x 98 columns]"
            ]
          },
          "execution_count": 314,
          "metadata": {},
          "output_type": "execute_result"
        }
      ],
      "source": [
        "# drop variables specified by correlation matrix\n",
        "quar_final = quar_final.drop(to_drop, axis = 1)\n",
        "\n",
        "# add impt var back \n",
        "quar_df_total= quar_final.merge(impt_df,how= \"left\", left_index=True, right_index=True)\n",
        "quar_df_total.head()"
      ]
    },
    {
      "cell_type": "code",
      "execution_count": 315,
      "metadata": {},
      "outputs": [
        {
          "data": {
            "text/plain": [
              "0"
            ]
          },
          "execution_count": 315,
          "metadata": {},
          "output_type": "execute_result"
        }
      ],
      "source": [
        "#checking for NAN in join\n",
        "quar_df_total.isna().sum().sum()"
      ]
    },
    {
      "cell_type": "markdown",
      "metadata": {},
      "source": [
        "Training data and test data split"
      ]
    },
    {
      "cell_type": "code",
      "execution_count": null,
      "metadata": {},
      "outputs": [],
      "source": [
        "train_size = int(len(quar_df_total) * 0.7) #test-split of 0.7\n",
        "quar_df_train = quar_df_total[:train_size]\n",
        "quar_df_test = quar_df_total[train_size:]\n"
      ]
    },
    {
      "cell_type": "markdown",
      "metadata": {},
      "source": [
        "### Modeling"
      ]
    },
    {
      "cell_type": "markdown",
      "metadata": {},
      "source": [
        "#### ARIMA"
      ]
    },
    {
      "cell_type": "code",
      "execution_count": 317,
      "metadata": {},
      "outputs": [
        {
          "name": "stdout",
          "output_type": "stream",
          "text": [
            "Performing stepwise search to minimize aic\n",
            " ARIMA(0,0,0)(0,0,0)[0]             : AIC=-1100.191, Time=0.02 sec\n",
            " ARIMA(1,0,0)(0,0,0)[0]             : AIC=-1187.887, Time=0.05 sec\n",
            " ARIMA(0,0,1)(0,0,0)[0]             : AIC=-1144.598, Time=0.06 sec\n",
            " ARIMA(2,0,0)(0,0,0)[0]             : AIC=-1211.092, Time=0.04 sec\n",
            " ARIMA(3,0,0)(0,0,0)[0]             : AIC=-1210.619, Time=0.19 sec\n",
            " ARIMA(2,0,1)(0,0,0)[0]             : AIC=-1211.917, Time=0.17 sec\n",
            " ARIMA(1,0,1)(0,0,0)[0]             : AIC=-1216.312, Time=0.06 sec\n",
            " ARIMA(1,0,2)(0,0,0)[0]             : AIC=-1211.911, Time=0.24 sec\n",
            " ARIMA(0,0,2)(0,0,0)[0]             : AIC=-1175.570, Time=0.20 sec\n",
            " ARIMA(2,0,2)(0,0,0)[0]             : AIC=-1217.110, Time=0.36 sec\n",
            " ARIMA(3,0,2)(0,0,0)[0]             : AIC=-1215.634, Time=0.34 sec\n",
            " ARIMA(2,0,3)(0,0,0)[0]             : AIC=-1215.690, Time=0.08 sec\n",
            " ARIMA(1,0,3)(0,0,0)[0]             : AIC=-1215.800, Time=0.08 sec\n",
            " ARIMA(3,0,1)(0,0,0)[0]             : AIC=-1208.105, Time=0.07 sec\n",
            " ARIMA(3,0,3)(0,0,0)[0]             : AIC=-1214.043, Time=0.10 sec\n",
            " ARIMA(2,0,2)(0,0,0)[0] intercept   : AIC=-1236.307, Time=0.38 sec\n",
            " ARIMA(1,0,2)(0,0,0)[0] intercept   : AIC=-1235.016, Time=0.16 sec\n",
            " ARIMA(2,0,1)(0,0,0)[0] intercept   : AIC=-1235.736, Time=0.15 sec\n",
            " ARIMA(3,0,2)(0,0,0)[0] intercept   : AIC=-1234.052, Time=0.37 sec\n",
            " ARIMA(2,0,3)(0,0,0)[0] intercept   : AIC=-1234.002, Time=0.42 sec\n",
            " ARIMA(1,0,1)(0,0,0)[0] intercept   : AIC=-1235.377, Time=0.15 sec\n",
            " ARIMA(1,0,3)(0,0,0)[0] intercept   : AIC=-1232.922, Time=0.12 sec\n",
            " ARIMA(3,0,1)(0,0,0)[0] intercept   : AIC=-1233.948, Time=0.12 sec\n",
            " ARIMA(3,0,3)(0,0,0)[0] intercept   : AIC=-1229.494, Time=0.25 sec\n",
            "\n",
            "Best model:  ARIMA(2,0,2)(0,0,0)[0] intercept\n",
            "Total fit time: 4.212 seconds\n",
            "Optimal ARIMA parameters: (2, 0, 2)\n"
          ]
        }
      ],
      "source": [
        "# find optimal ARIMA parameters\n",
        "optimal_model = auto_arima(quar_df_train['GDPC1'],\n",
        "                         start_p=0, start_q=0, max_p=5, max_q=5,\n",
        "                         seasonal=False,\n",
        "                         d=None, max_d=2,\n",
        "                         trace=True,\n",
        "                         error_action='ignore',\n",
        "                         suppress_warnings=True,\n",
        "                         stepwise=True)\n",
        "\n",
        "print(f\"Optimal ARIMA parameters: {optimal_model.order}\")\n"
      ]
    },
    {
      "cell_type": "code",
      "execution_count": 318,
      "metadata": {},
      "outputs": [
        {
          "name": "stderr",
          "output_type": "stream",
          "text": [
            "c:\\Users\\tanke\\AppData\\Local\\Programs\\Python\\Python310\\lib\\site-packages\\statsmodels\\tsa\\statespace\\sarimax.py:966: UserWarning: Non-stationary starting autoregressive parameters found. Using zeros as starting parameters.\n",
            "  warn('Non-stationary starting autoregressive parameters'\n",
            "c:\\Users\\tanke\\AppData\\Local\\Programs\\Python\\Python310\\lib\\site-packages\\statsmodels\\tsa\\statespace\\sarimax.py:978: UserWarning: Non-invertible starting MA parameters found. Using zeros as starting parameters.\n",
            "  warn('Non-invertible starting MA parameters found.'\n",
            "c:\\Users\\tanke\\AppData\\Local\\Programs\\Python\\Python310\\lib\\site-packages\\statsmodels\\base\\model.py:607: ConvergenceWarning: Maximum Likelihood optimization failed to converge. Check mle_retvals\n",
            "  warnings.warn(\"Maximum Likelihood optimization failed to \"\n"
          ]
        }
      ],
      "source": [
        "# fit model\n",
        "arima_model = ARIMA(quar_df_train['GDPC1'], order=optimal_model.order)\n",
        "arima_results = arima_model.fit()\n"
      ]
    },
    {
      "cell_type": "markdown",
      "metadata": {},
      "source": [
        "#### VAR"
      ]
    },
    {
      "cell_type": "code",
      "execution_count": null,
      "metadata": {},
      "outputs": [],
      "source": [
        "#fit the vector autoregression model\n",
        "var_model = VAR(quar_df_train)\n",
        "var_results = var_model.fit()"
      ]
    },
    {
      "cell_type": "markdown",
      "metadata": {},
      "source": [
        "### Evaluation"
      ]
    },
    {
      "cell_type": "markdown",
      "metadata": {},
      "source": [
        "#### Model Evaluation"
      ]
    },
    {
      "cell_type": "code",
      "execution_count": null,
      "metadata": {},
      "outputs": [],
      "source": [
        "# to calculate whether GDP moves in the same direction as that in the actual data\n",
        "def calculate_directional_accuracy(actual, predicted):\n",
        "    actual_direction = np.sign(np.diff(actual))\n",
        "    predicted_direction = np.sign(np.diff(predicted))\n",
        "    \n",
        "    correct_directions = np.sum(actual_direction == predicted_direction)\n",
        "    total_directions = len(actual_direction)\n",
        "    accuracy = correct_directions / total_directions\n",
        "    \n",
        "    metrics = {\n",
        "        'accuracy': accuracy,\n",
        "        'correct_predictions': correct_directions,\n",
        "        'total_predictions': total_directions\n",
        "    }\n",
        "    \n",
        "    return metrics\n"
      ]
    },
    {
      "cell_type": "markdown",
      "metadata": {},
      "source": [
        "##### Model Evaluation of ARIMA"
      ]
    },
    {
      "cell_type": "code",
      "execution_count": null,
      "metadata": {},
      "outputs": [
        {
          "name": "stdout",
          "output_type": "stream",
          "text": [
            "\n",
            "ARIMA Directional Accuracy: {'accuracy': 0.3974358974358974, 'correct_predictions': 31, 'total_predictions': 78}\n"
          ]
        }
      ],
      "source": [
        "# seeing whether the change in GDP as predicted by ARIMA is the same as that in the test data\n",
        "arima_forecast = arima_results.forecast(len(quar_df_test))\n",
        "arima_accuracy = calculate_directional_accuracy(quar_df_test['GDPC1'], arima_forecast)\n",
        "print(\"\\nARIMA Directional Accuracy:\", arima_accuracy)\n"
      ]
    },
    {
      "cell_type": "markdown",
      "metadata": {},
      "source": [
        "##### Model Evaluation of VAR"
      ]
    },
    {
      "cell_type": "code",
      "execution_count": null,
      "metadata": {},
      "outputs": [
        {
          "name": "stdout",
          "output_type": "stream",
          "text": [
            "\n",
            "VAR Directional Accuracy: {'accuracy': 0.5, 'correct_predictions': 39, 'total_predictions': 78}\n"
          ]
        }
      ],
      "source": [
        "# seeing whether the change in GDP as predicted by VAR is the same as that in the test data\n",
        "var_forecast = var_results.forecast(steps=len(quar_df_test), y = quar_df_train.values)\n",
        "var_gdp_forecast = var_forecast[:, quar_df_total.columns.get_loc('GDPC1')]\n",
        "var_accuracy = calculate_directional_accuracy(quar_df_test['GDPC1'], var_gdp_forecast)\n",
        "print(\"\\nVAR Directional Accuracy:\", var_accuracy)\n"
      ]
    },
    {
      "cell_type": "markdown",
      "metadata": {},
      "source": [
        "### Fan Charts"
      ]
    },
    {
      "cell_type": "code",
      "execution_count": null,
      "metadata": {},
      "outputs": [],
      "source": [
        "n_forecasts = 5 # 2024 Q4 to 2025 Q4\n",
        "n_simulations = 1000 \n",
        "intervals = [0.50, 0.65, 0.80]\n"
      ]
    },
    {
      "cell_type": "code",
      "execution_count": 433,
      "metadata": {},
      "outputs": [],
      "source": [
        "def generate_fan_chart(forecasts, intervals, title, arima=False):\n",
        "    \"\"\"Generate fan chart with multiple confidence intervals\"\"\"\n",
        "    plt.figure(figsize=(12, 6))\n",
        "    plt.plot(forecasts.mean(axis=1), color='blue', label='Mean Forecast')\n",
        "    \n",
        "    colors = ['lightblue', 'skyblue', 'cornflowerblue']\n",
        "    for interval, color in zip(intervals, colors):\n",
        "        lower = np.percentile(forecasts, (100 - interval * 100) / 2, axis=1)\n",
        "        upper = np.percentile(forecasts, 100 - (100 - interval * 100) / 2, axis=1)\n",
        "        plt.fill_between(range(len(forecasts)), lower, upper, color=color, alpha=0.3,\n",
        "                        label=f'{interval*100}% CI')\n",
        "\n",
        "    quarters = [\"2024Q4\", '2025Q1', '2025Q2', '2025Q3', '2025Q4']\n",
        "\n",
        "    \n",
        "    plt.xticks(ticks=range(len(quarters)), labels=quarters)\n",
        "    plt.yticks([])\n",
        "\n",
        "    plt.title(title)\n",
        "    plt.legend()\n",
        "    plt.grid(True)\n",
        "    if arima==True:\n",
        "        plt.ylim((0.005, 0.01))\n",
        "\n",
        "    return plt\n"
      ]
    },
    {
      "cell_type": "markdown",
      "metadata": {},
      "source": [
        "#### ARIMA Fan Chart"
      ]
    },
    {
      "cell_type": "code",
      "execution_count": null,
      "metadata": {},
      "outputs": [],
      "source": [
        "#optimal_model.order contains (p, d, q) which are the parameters for AR, differencing, and MA components\n",
        "#obtained from the model with the lowest AIC\n",
        "arima_model = ARIMA(quar_df_total['GDPC1'], order=optimal_model.order)\n",
        "arima_results = arima_model.fit()\n",
        "\n"
      ]
    },
    {
      "cell_type": "code",
      "execution_count": null,
      "metadata": {},
      "outputs": [],
      "source": [
        "arima_forecasts = np.zeros((n_forecasts, n_simulations)) # simulating the next 5 quarters\n",
        "for i in range(n_simulations):\n",
        "    arima_forecasts[:, i] = arima_results.simulate(n_forecasts) # appending each result to arima_forecasts\n"
      ]
    },
    {
      "cell_type": "code",
      "execution_count": 434,
      "metadata": {},
      "outputs": [
        {
          "data": {
            "image/png": "[encoded data removed]",
            "text/plain": [
              "<Figure size 1200x600 with 1 Axes>"
            ]
          },
          "metadata": {},
          "output_type": "display_data"
        }
      ],
      "source": [
        "arima_fan = generate_fan_chart(\n",
        "    pd.DataFrame(arima_forecasts), \n",
        "    intervals, \n",
        "    'ARIMA Forecast Fan Chart for GDP (2024Q4- 2025Q4)',\n",
        "    \n",
        ")# plotting the predictions for the next 5 quarters with the confidence intervals\n",
        "arima_fan.show()"
      ]
    },
    {
      "cell_type": "markdown",
      "metadata": {},
      "source": [
        "#### VAR Fan Chart"
      ]
    },
    {
      "cell_type": "code",
      "execution_count": null,
      "metadata": {},
      "outputs": [],
      "source": [
        "var_model = VAR(quar_df_total) \n",
        "var_results = var_model.fit()"
      ]
    },
    {
      "cell_type": "code",
      "execution_count": 419,
      "metadata": {},
      "outputs": [],
      "source": [
        "var_forecasts = np.zeros((n_forecasts, n_simulations))\n",
        "for i in range(n_simulations):\n",
        "    var_sim = var_results.simulate_var(n_forecasts)\n",
        "    var_forecasts[:, i] = var_sim[:, quar_df_total.columns.get_loc('GDPC1')]\n"
      ]
    },
    {
      "cell_type": "code",
      "execution_count": 435,
      "metadata": {},
      "outputs": [
        {
          "data": {
            "image/png": "[encoded data removed]",
            "text/plain": [
              "<Figure size 1200x600 with 1 Axes>"
            ]
          },
          "metadata": {},
          "output_type": "display_data"
        }
      ],
      "source": [
        "var_fan = generate_fan_chart(\n",
        "    pd.DataFrame(var_forecasts), \n",
        "    intervals, \n",
        "    'VAR Forecast Fan Chart for GDP (2024Q4- 2025Q4)'\n",
        ")\n",
        "var_fan.show()\n"
      ]
    },
    {
      "cell_type": "markdown",
      "metadata": {},
      "source": [
        "### Print forecast summaries"
      ]
    },
    {
      "cell_type": "code",
      "execution_count": 421,
      "metadata": {},
      "outputs": [
        {
          "name": "stdout",
          "output_type": "stream",
          "text": [
            "\n",
            "ARIMA Forecasts (Mean):\n",
            "Q1 2025: 0.007841795567209367\n",
            "Q3 2025: 0.0077478489164908605\n",
            "Q4 2025: 0.0071791557626370885\n",
            "\n",
            "VAR Forecasts (Mean):\n",
            "Q1 2025: 0.2332972106403412\n",
            "Q3 2025: 0.1177489801713504\n",
            "Q4 2025: 0.11232545821593655\n"
          ]
        }
      ],
      "source": [
        "print(\"\\nARIMA Forecasts (Mean):\")\n",
        "print(\"Q1 2025:\", np.mean(arima_forecasts[1]))\n",
        "print(\"Q3 2025:\", np.mean(arima_forecasts[3]))\n",
        "print(\"Q4 2025:\", np.mean(arima_forecasts[4]))\n",
        "\n",
        "print(\"\\nVAR Forecasts (Mean):\")\n",
        "print(\"Q1 2025:\", np.mean(var_forecasts[1]))\n",
        "print(\"Q3 2025:\", np.mean(var_forecasts[3]))\n",
        "print(\"Q4 2025:\", np.mean(var_forecasts[4]))\n"
      ]
    }
  ],
  "metadata": {
    "colab": {
      "provenance": []
    },
    "kernelspec": {
      "display_name": "Python 3",
      "language": "python",
      "name": "python3"
    },
    "language_info": {
      "codemirror_mode": {
        "name": "ipython",
        "version": 3
      },
      "file_extension": ".py",
      "mimetype": "text/x-python",
      "name": "python",
      "nbconvert_exporter": "python",
      "pygments_lexer": "ipython3",
      "version": "3.10.11"
    }
  },
  "nbformat": 4,
  "nbformat_minor": 0
}
